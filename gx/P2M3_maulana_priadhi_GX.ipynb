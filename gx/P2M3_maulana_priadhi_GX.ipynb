{
 "cells": [
  {
   "cell_type": "markdown",
   "metadata": {},
   "source": [
    "---\n",
    "Milestone 3\n",
    "\n",
    "Nama  : Maulana Muhamad Priadhi\n",
    "Batch : FTDS-007-HCK\n",
    "\n",
    "Program ini dibuat untuk melakukan automatisasi transform dan load data dari PostgreSQL ke ElasticSearch. Dataset yang digunakan adalah dataset mengenai pembelian produk deposito oleh nasabah bank.\n",
    "\n",
    "---"
   ]
  },
  {
   "cell_type": "code",
   "execution_count": 4,
   "metadata": {},
   "outputs": [],
   "source": [
    "import great_expectations as gx\n",
    "\n",
    "from great_expectations.checkpoint import Checkpoint"
   ]
  },
  {
   "cell_type": "code",
   "execution_count": 5,
   "metadata": {},
   "outputs": [],
   "source": [
    "context = gx.get_context()"
   ]
  },
  {
   "cell_type": "code",
   "execution_count": 6,
   "metadata": {},
   "outputs": [],
   "source": [
    "datasource = context.sources.add_pandas(name=\"m3_datasource\")"
   ]
  },
  {
   "cell_type": "code",
   "execution_count": 46,
   "metadata": {},
   "outputs": [],
   "source": [
    "import pandas as pd\n",
    "\n",
    "dataframe = pd.read_csv('P2M3_maulana_priadhi_data_clean.csv')"
   ]
  },
  {
   "cell_type": "code",
   "execution_count": 47,
   "metadata": {},
   "outputs": [
    {
     "data": {
      "text/html": [
       "<div>\n",
       "<style scoped>\n",
       "    .dataframe tbody tr th:only-of-type {\n",
       "        vertical-align: middle;\n",
       "    }\n",
       "\n",
       "    .dataframe tbody tr th {\n",
       "        vertical-align: top;\n",
       "    }\n",
       "\n",
       "    .dataframe thead th {\n",
       "        text-align: right;\n",
       "    }\n",
       "</style>\n",
       "<table border=\"1\" class=\"dataframe\">\n",
       "  <thead>\n",
       "    <tr style=\"text-align: right;\">\n",
       "      <th></th>\n",
       "      <th>id</th>\n",
       "      <th>age</th>\n",
       "      <th>balance</th>\n",
       "      <th>day</th>\n",
       "      <th>duration</th>\n",
       "      <th>campaign</th>\n",
       "      <th>pdays</th>\n",
       "      <th>previous</th>\n",
       "    </tr>\n",
       "  </thead>\n",
       "  <tbody>\n",
       "    <tr>\n",
       "      <th>count</th>\n",
       "      <td>45196.000000</td>\n",
       "      <td>45196.000000</td>\n",
       "      <td>45196.000000</td>\n",
       "      <td>45196.000000</td>\n",
       "      <td>45196.000000</td>\n",
       "      <td>45196.000000</td>\n",
       "      <td>45196.000000</td>\n",
       "      <td>45196.000000</td>\n",
       "    </tr>\n",
       "    <tr>\n",
       "      <th>mean</th>\n",
       "      <td>22609.491260</td>\n",
       "      <td>40.935879</td>\n",
       "      <td>1362.562129</td>\n",
       "      <td>15.809209</td>\n",
       "      <td>258.137645</td>\n",
       "      <td>2.764404</td>\n",
       "      <td>40.210594</td>\n",
       "      <td>0.580339</td>\n",
       "    </tr>\n",
       "    <tr>\n",
       "      <th>std</th>\n",
       "      <td>13047.121994</td>\n",
       "      <td>10.617774</td>\n",
       "      <td>3045.192527</td>\n",
       "      <td>8.321988</td>\n",
       "      <td>257.448929</td>\n",
       "      <td>3.098377</td>\n",
       "      <td>100.142735</td>\n",
       "      <td>2.303536</td>\n",
       "    </tr>\n",
       "    <tr>\n",
       "      <th>min</th>\n",
       "      <td>1.000000</td>\n",
       "      <td>18.000000</td>\n",
       "      <td>-8019.000000</td>\n",
       "      <td>1.000000</td>\n",
       "      <td>0.000000</td>\n",
       "      <td>1.000000</td>\n",
       "      <td>-1.000000</td>\n",
       "      <td>0.000000</td>\n",
       "    </tr>\n",
       "    <tr>\n",
       "      <th>25%</th>\n",
       "      <td>11310.750000</td>\n",
       "      <td>33.000000</td>\n",
       "      <td>72.000000</td>\n",
       "      <td>8.000000</td>\n",
       "      <td>103.000000</td>\n",
       "      <td>1.000000</td>\n",
       "      <td>-1.000000</td>\n",
       "      <td>0.000000</td>\n",
       "    </tr>\n",
       "    <tr>\n",
       "      <th>50%</th>\n",
       "      <td>22609.500000</td>\n",
       "      <td>39.000000</td>\n",
       "      <td>449.000000</td>\n",
       "      <td>16.000000</td>\n",
       "      <td>180.000000</td>\n",
       "      <td>2.000000</td>\n",
       "      <td>-1.000000</td>\n",
       "      <td>0.000000</td>\n",
       "    </tr>\n",
       "    <tr>\n",
       "      <th>75%</th>\n",
       "      <td>33908.250000</td>\n",
       "      <td>48.000000</td>\n",
       "      <td>1428.000000</td>\n",
       "      <td>21.000000</td>\n",
       "      <td>319.000000</td>\n",
       "      <td>3.000000</td>\n",
       "      <td>-1.000000</td>\n",
       "      <td>0.000000</td>\n",
       "    </tr>\n",
       "    <tr>\n",
       "      <th>max</th>\n",
       "      <td>45210.000000</td>\n",
       "      <td>95.000000</td>\n",
       "      <td>102127.000000</td>\n",
       "      <td>31.000000</td>\n",
       "      <td>4918.000000</td>\n",
       "      <td>63.000000</td>\n",
       "      <td>871.000000</td>\n",
       "      <td>275.000000</td>\n",
       "    </tr>\n",
       "  </tbody>\n",
       "</table>\n",
       "</div>"
      ],
      "text/plain": [
       "                 id           age        balance           day      duration  \\\n",
       "count  45196.000000  45196.000000   45196.000000  45196.000000  45196.000000   \n",
       "mean   22609.491260     40.935879    1362.562129     15.809209    258.137645   \n",
       "std    13047.121994     10.617774    3045.192527      8.321988    257.448929   \n",
       "min        1.000000     18.000000   -8019.000000      1.000000      0.000000   \n",
       "25%    11310.750000     33.000000      72.000000      8.000000    103.000000   \n",
       "50%    22609.500000     39.000000     449.000000     16.000000    180.000000   \n",
       "75%    33908.250000     48.000000    1428.000000     21.000000    319.000000   \n",
       "max    45210.000000     95.000000  102127.000000     31.000000   4918.000000   \n",
       "\n",
       "           campaign         pdays      previous  \n",
       "count  45196.000000  45196.000000  45196.000000  \n",
       "mean       2.764404     40.210594      0.580339  \n",
       "std        3.098377    100.142735      2.303536  \n",
       "min        1.000000     -1.000000      0.000000  \n",
       "25%        1.000000     -1.000000      0.000000  \n",
       "50%        2.000000     -1.000000      0.000000  \n",
       "75%        3.000000     -1.000000      0.000000  \n",
       "max       63.000000    871.000000    275.000000  "
      ]
     },
     "execution_count": 47,
     "metadata": {},
     "output_type": "execute_result"
    }
   ],
   "source": [
    "dataframe.describe()"
   ]
  },
  {
   "cell_type": "code",
   "execution_count": 48,
   "metadata": {},
   "outputs": [
    {
     "data": {
      "text/plain": [
       "array([ -1, 151, 166,  91,  86, 143, 147,  89, 140, 176, 101, 174, 170,\n",
       "       167, 195, 165, 129, 188, 196, 172, 118, 119, 104, 171, 117, 164,\n",
       "       132, 131, 123, 159, 186, 111, 115, 116, 173, 178, 110, 152,  96,\n",
       "       103, 150, 175, 193, 181, 185, 154, 145, 138, 126, 180, 109, 158,\n",
       "       168,  97, 182, 127, 130, 194, 125, 105, 102,  26, 179,  28, 183,\n",
       "       155, 112, 120, 137, 124, 187, 190, 113, 162, 134, 169, 189,   8,\n",
       "       144, 191, 184, 177,   5,  99, 133,  93,  92,  10, 100, 156, 198,\n",
       "       106, 153, 146, 128,   7, 121, 160, 107,  90,  27, 197, 136, 139,\n",
       "       122, 157, 149, 135,  30, 114,  98, 192, 163,  34,  95, 141,  31,\n",
       "       199,  94, 108,  29, 268, 247, 253, 226, 244, 239, 245, 204, 231,\n",
       "       238, 258, 230, 254, 265,  71, 223, 246, 250, 266, 240, 205, 261,\n",
       "       259, 241, 260, 234, 251, 225, 161, 237, 262, 248, 255, 220, 227,\n",
       "       206, 224, 249, 235, 228, 263,   2, 270, 232, 252, 207, 200, 269,\n",
       "       233, 256, 273, 272, 242, 264, 208, 214, 222, 271, 203, 221, 202,\n",
       "       216, 201, 257, 229, 210, 217,  75, 213,  73,  76, 267, 211, 215,\n",
       "        77, 236,  82,   6, 209, 274,   1, 243, 212, 275,  80, 276,   9,\n",
       "       279,  12, 280,  88, 277,  85,  84, 219,  24,  21, 282,  41, 294,\n",
       "        49, 329, 307, 303, 331, 308, 300,  64, 314, 287, 330, 332, 302,\n",
       "       323, 318, 333,  60, 326, 335, 313, 312, 305, 325, 327, 336, 309,\n",
       "       328, 322,  39, 316, 292, 295, 310, 306, 320, 317, 289,  57, 321,\n",
       "       142, 339, 301, 315, 337, 334, 340, 319,  17,  74, 148, 341, 299,\n",
       "       344, 342, 324, 345, 346, 304, 281, 343, 338,  14, 347,  15, 291,\n",
       "       348, 349, 285, 350, 284,  25, 283, 278,  81,   4,  87,  83,  79,\n",
       "        70,  13, 293,  37,  78,  63,  22, 296, 355,  66,  19,  35, 360,\n",
       "       357, 354, 351, 362, 358, 365, 298, 286, 364, 363,  47, 361, 288,\n",
       "       366, 356, 352, 359, 297, 367, 353, 368,  42, 290,  67, 371, 370,\n",
       "       369,  50,  36, 373, 374, 372, 311, 375, 378,  59, 379,  40,  18,\n",
       "        43,  20,  69,  38, 385,  56,  55,  44, 391,  72, 390,  32,  62,\n",
       "       399, 393,  65, 377, 395, 388, 389, 386,  61, 412, 405, 434, 394,\n",
       "       382, 459, 440, 397, 383,  68, 461, 462, 463, 422,  51, 457, 430,\n",
       "       442, 403, 454, 428, 392, 410, 401, 474, 475, 477, 478,  54, 476,\n",
       "       380, 479,  45,  46, 495,  58,  48, 518,  52, 515, 520, 511, 536,\n",
       "       387, 218,  33, 544, 435, 436, 555, 433, 446, 558, 469, 616, 561,\n",
       "       553, 384, 592, 467, 585, 480, 421, 667, 626, 426, 595, 381, 376,\n",
       "       648, 521, 452, 449, 633, 398,  53, 460, 670, 551, 414, 557, 687,\n",
       "       404, 651, 686, 425, 504, 578, 674, 416, 586, 411, 756, 450, 745,\n",
       "       514, 417, 424, 776, 396, 683, 529, 439, 415, 456, 407, 458, 532,\n",
       "       481, 791, 701, 531, 792, 413, 445, 535, 784, 419, 455, 491, 431,\n",
       "       542, 470, 472, 717, 437,   3, 782, 728, 828, 524, 562, 761, 492,\n",
       "       775, 579, 493, 464, 760, 466, 465, 656, 831, 490, 432, 655, 427,\n",
       "       749, 838, 769, 587, 778, 854, 779, 850, 771, 594, 842, 589, 603,\n",
       "       484, 489, 486, 409, 444, 680, 808, 485, 503, 690, 772, 774, 526,\n",
       "       420, 528, 500, 826, 804, 508, 547, 805, 541, 543, 871, 550, 530],\n",
       "      dtype=int64)"
      ]
     },
     "execution_count": 48,
     "metadata": {},
     "output_type": "execute_result"
    }
   ],
   "source": [
    "dataframe['pdays'].unique()"
   ]
  },
  {
   "cell_type": "code",
   "execution_count": 49,
   "metadata": {},
   "outputs": [
    {
     "ename": "ValueError",
     "evalue": "\"term_deposit\" already exists (all existing assets are term_deposit)",
     "output_type": "error",
     "traceback": [
      "\u001b[1;31m---------------------------------------------------------------------------\u001b[0m",
      "\u001b[1;31mValueError\u001b[0m                                Traceback (most recent call last)",
      "\u001b[1;32mc:\\Users\\user\\Documents\\git_practice\\Phase 2\\Milestone\\gx\\P2M3_maulana_priadhi_GX.ipynb Cell 7\u001b[0m line \u001b[0;36m2\n\u001b[0;32m      <a href='vscode-notebook-cell:/c%3A/Users/user/Documents/git_practice/Phase%202/Milestone/gx/P2M3_maulana_priadhi_GX.ipynb#W4sZmlsZQ%3D%3D?line=0'>1</a>\u001b[0m name \u001b[39m=\u001b[39m \u001b[39m\"\u001b[39m\u001b[39mterm_deposit\u001b[39m\u001b[39m\"\u001b[39m\n\u001b[1;32m----> <a href='vscode-notebook-cell:/c%3A/Users/user/Documents/git_practice/Phase%202/Milestone/gx/P2M3_maulana_priadhi_GX.ipynb#W4sZmlsZQ%3D%3D?line=1'>2</a>\u001b[0m data_asset \u001b[39m=\u001b[39m datasource\u001b[39m.\u001b[39;49madd_dataframe_asset(name\u001b[39m=\u001b[39;49mname)\n\u001b[0;32m      <a href='vscode-notebook-cell:/c%3A/Users/user/Documents/git_practice/Phase%202/Milestone/gx/P2M3_maulana_priadhi_GX.ipynb#W4sZmlsZQ%3D%3D?line=2'>3</a>\u001b[0m my_batch_request \u001b[39m=\u001b[39m data_asset\u001b[39m.\u001b[39mbuild_batch_request(dataframe\u001b[39m=\u001b[39mdataframe)\n",
      "File \u001b[1;32mc:\\Users\\user\\miniconda3\\envs\\gx_env\\lib\\site-packages\\great_expectations\\datasource\\fluent\\pandas_datasource.py:679\u001b[0m, in \u001b[0;36mPandasDatasource.add_dataframe_asset\u001b[1;34m(self, name, dataframe, batch_metadata)\u001b[0m\n\u001b[0;32m    674\u001b[0m asset: DataFrameAsset \u001b[39m=\u001b[39m DataFrameAsset(\n\u001b[0;32m    675\u001b[0m     name\u001b[39m=\u001b[39mname,\n\u001b[0;32m    676\u001b[0m     batch_metadata\u001b[39m=\u001b[39mbatch_metadata \u001b[39mor\u001b[39;00m {},\n\u001b[0;32m    677\u001b[0m )\n\u001b[0;32m    678\u001b[0m asset\u001b[39m.\u001b[39mdataframe \u001b[39m=\u001b[39m dataframe\n\u001b[1;32m--> 679\u001b[0m \u001b[39mreturn\u001b[39;00m \u001b[39mself\u001b[39;49m\u001b[39m.\u001b[39;49m_add_asset(asset\u001b[39m=\u001b[39;49masset)\n",
      "File \u001b[1;32mc:\\Users\\user\\miniconda3\\envs\\gx_env\\lib\\site-packages\\great_expectations\\datasource\\fluent\\pandas_datasource.py:579\u001b[0m, in \u001b[0;36m_PandasDatasource._add_asset\u001b[1;34m(self, asset, connect_options)\u001b[0m\n\u001b[0;32m    576\u001b[0m     \u001b[39melif\u001b[39;00m asset_name \u001b[39min\u001b[39;00m asset_names:\n\u001b[0;32m    577\u001b[0m         \u001b[39mself\u001b[39m\u001b[39m.\u001b[39mdelete_asset(asset_name\u001b[39m=\u001b[39masset_name)\n\u001b[1;32m--> 579\u001b[0m \u001b[39mreturn\u001b[39;00m \u001b[39msuper\u001b[39;49m()\u001b[39m.\u001b[39;49m_add_asset(asset\u001b[39m=\u001b[39;49masset, connect_options\u001b[39m=\u001b[39;49mconnect_options)\n",
      "File \u001b[1;32mc:\\Users\\user\\miniconda3\\envs\\gx_env\\lib\\site-packages\\great_expectations\\datasource\\fluent\\interfaces.py:553\u001b[0m, in \u001b[0;36mDatasource._add_asset\u001b[1;34m(self, asset, connect_options)\u001b[0m\n\u001b[0;32m    551\u001b[0m asset_names: Set[\u001b[39mstr\u001b[39m] \u001b[39m=\u001b[39m \u001b[39mself\u001b[39m\u001b[39m.\u001b[39mget_asset_names()\n\u001b[0;32m    552\u001b[0m \u001b[39mif\u001b[39;00m asset\u001b[39m.\u001b[39mname \u001b[39min\u001b[39;00m asset_names:\n\u001b[1;32m--> 553\u001b[0m     \u001b[39mraise\u001b[39;00m \u001b[39mValueError\u001b[39;00m(\n\u001b[0;32m    554\u001b[0m         \u001b[39mf\u001b[39m\u001b[39m'\u001b[39m\u001b[39m\"\u001b[39m\u001b[39m{\u001b[39;00masset\u001b[39m.\u001b[39mname\u001b[39m}\u001b[39;00m\u001b[39m\"\u001b[39m\u001b[39m already exists (all existing assets are \u001b[39m\u001b[39m{\u001b[39;00m\u001b[39m\"\u001b[39m\u001b[39m, \u001b[39m\u001b[39m\"\u001b[39m\u001b[39m.\u001b[39mjoin(asset_names)\u001b[39m}\u001b[39;00m\u001b[39m)\u001b[39m\u001b[39m'\u001b[39m\n\u001b[0;32m    555\u001b[0m     )\n\u001b[0;32m    557\u001b[0m \u001b[39mself\u001b[39m\u001b[39m.\u001b[39massets\u001b[39m.\u001b[39mappend(asset)\n\u001b[0;32m    559\u001b[0m \u001b[39m# if asset was added to a cloud FDS, _save_context_project_config will return FDS fetched from cloud,\u001b[39;00m\n\u001b[0;32m    560\u001b[0m \u001b[39m# which will contain the new asset populated with an id\u001b[39;00m\n",
      "\u001b[1;31mValueError\u001b[0m: \"term_deposit\" already exists (all existing assets are term_deposit)"
     ]
    }
   ],
   "source": [
    "name = \"term_deposit\"\n",
    "data_asset = datasource.add_dataframe_asset(name=name)\n",
    "my_batch_request = data_asset.build_batch_request(dataframe=dataframe)"
   ]
  },
  {
   "cell_type": "code",
   "execution_count": null,
   "metadata": {},
   "outputs": [
    {
     "data": {
      "application/vnd.jupyter.widget-view+json": {
       "model_id": "2af645ddf9e44593ba63b3e47d46e26d",
       "version_major": 2,
       "version_minor": 0
      },
      "text/plain": [
       "Calculating Metrics:   0%|          | 0/1 [00:00<?, ?it/s]"
      ]
     },
     "metadata": {},
     "output_type": "display_data"
    },
    {
     "name": "stdout",
     "output_type": "stream",
     "text": [
      "   id  age           job  marital  education default  balance housing loan  \\\n",
      "0   1   44    technician   single  secondary      no       29     yes   no   \n",
      "1   2   33  entrepreneur  married  secondary      no        2     yes  yes   \n",
      "2   3   47   blue-collar  married    unknown      no     1506     yes   no   \n",
      "3   4   33       unknown   single    unknown      no        1      no   no   \n",
      "4   5   35    management  married   tertiary      no      231     yes   no   \n",
      "\n",
      "   contact  day month  duration  campaign  pdays  previous poutcome   y  \n",
      "0  unknown    5   may       151         1     -1         0  unknown  no  \n",
      "1  unknown    5   may        76         1     -1         0  unknown  no  \n",
      "2  unknown    5   may        92         1     -1         0  unknown  no  \n",
      "3  unknown    5   may       198         1     -1         0  unknown  no  \n",
      "4  unknown    5   may       139         1     -1         0  unknown  no  \n"
     ]
    }
   ],
   "source": [
    "expectation_suite_name = \"hacktiv8_M3\"\n",
    "context.add_or_update_expectation_suite(expectation_suite_name=expectation_suite_name)\n",
    "validator = context.get_validator(\n",
    "    batch_request=data_asset.build_batch_request(dataframe=dataframe),\n",
    "    expectation_suite_name=expectation_suite_name,\n",
    ")\n",
    "\n",
    "print(validator.head())"
   ]
  },
  {
   "cell_type": "code",
   "execution_count": 50,
   "metadata": {},
   "outputs": [
    {
     "data": {
      "application/vnd.jupyter.widget-view+json": {
       "model_id": "bc6451b5687442c6a10ee60435313dee",
       "version_major": 2,
       "version_minor": 0
      },
      "text/plain": [
       "Calculating Metrics:   0%|          | 0/6 [00:00<?, ?it/s]"
      ]
     },
     "metadata": {},
     "output_type": "display_data"
    },
    {
     "data": {
      "text/plain": [
       "{\n",
       "  \"success\": true,\n",
       "  \"result\": {\n",
       "    \"element_count\": 45196,\n",
       "    \"unexpected_count\": 0,\n",
       "    \"unexpected_percent\": 0.0,\n",
       "    \"partial_unexpected_list\": []\n",
       "  },\n",
       "  \"meta\": {},\n",
       "  \"exception_info\": {\n",
       "    \"raised_exception\": false,\n",
       "    \"exception_traceback\": null,\n",
       "    \"exception_message\": null\n",
       "  }\n",
       "}"
      ]
     },
     "execution_count": 50,
     "metadata": {},
     "output_type": "execute_result"
    }
   ],
   "source": [
    "validator.expect_column_values_to_not_be_null(column=\"y\")"
   ]
  },
  {
   "cell_type": "code",
   "execution_count": 51,
   "metadata": {},
   "outputs": [],
   "source": [
    "# validator.expect_column_values_to_not_be_null(column=\"poutcome\")"
   ]
  },
  {
   "cell_type": "code",
   "execution_count": 52,
   "metadata": {},
   "outputs": [
    {
     "data": {
      "application/vnd.jupyter.widget-view+json": {
       "model_id": "7d18439769da40abae7000d495a708ca",
       "version_major": 2,
       "version_minor": 0
      },
      "text/plain": [
       "Calculating Metrics:   0%|          | 0/8 [00:00<?, ?it/s]"
      ]
     },
     "metadata": {},
     "output_type": "display_data"
    },
    {
     "data": {
      "text/plain": [
       "{\n",
       "  \"success\": true,\n",
       "  \"result\": {\n",
       "    \"element_count\": 45196,\n",
       "    \"unexpected_count\": 0,\n",
       "    \"unexpected_percent\": 0.0,\n",
       "    \"partial_unexpected_list\": [],\n",
       "    \"missing_count\": 0,\n",
       "    \"missing_percent\": 0.0,\n",
       "    \"unexpected_percent_total\": 0.0,\n",
       "    \"unexpected_percent_nonmissing\": 0.0\n",
       "  },\n",
       "  \"meta\": {},\n",
       "  \"exception_info\": {\n",
       "    \"raised_exception\": false,\n",
       "    \"exception_traceback\": null,\n",
       "    \"exception_message\": null\n",
       "  }\n",
       "}"
      ]
     },
     "execution_count": 52,
     "metadata": {},
     "output_type": "execute_result"
    }
   ],
   "source": [
    "validator.expect_column_values_to_be_in_set(column=\"marital\", value_set=[\"married\", \"divorced\", \"single\"])"
   ]
  },
  {
   "cell_type": "code",
   "execution_count": 53,
   "metadata": {},
   "outputs": [
    {
     "data": {
      "application/vnd.jupyter.widget-view+json": {
       "model_id": "c4dd07bacf1848489136d0f980cba66a",
       "version_major": 2,
       "version_minor": 0
      },
      "text/plain": [
       "Calculating Metrics:   0%|          | 0/8 [00:00<?, ?it/s]"
      ]
     },
     "metadata": {},
     "output_type": "display_data"
    },
    {
     "data": {
      "text/plain": [
       "{\n",
       "  \"success\": true,\n",
       "  \"result\": {\n",
       "    \"element_count\": 45196,\n",
       "    \"unexpected_count\": 0,\n",
       "    \"unexpected_percent\": 0.0,\n",
       "    \"partial_unexpected_list\": [],\n",
       "    \"missing_count\": 0,\n",
       "    \"missing_percent\": 0.0,\n",
       "    \"unexpected_percent_total\": 0.0,\n",
       "    \"unexpected_percent_nonmissing\": 0.0\n",
       "  },\n",
       "  \"meta\": {},\n",
       "  \"exception_info\": {\n",
       "    \"raised_exception\": false,\n",
       "    \"exception_traceback\": null,\n",
       "    \"exception_message\": null\n",
       "  }\n",
       "}"
      ]
     },
     "execution_count": 53,
     "metadata": {},
     "output_type": "execute_result"
    }
   ],
   "source": [
    "validator.expect_column_values_to_be_in_set(column=\"education\", value_set=['tertiary', 'secondary', 'unknown', 'primary'])"
   ]
  },
  {
   "cell_type": "code",
   "execution_count": 54,
   "metadata": {},
   "outputs": [
    {
     "data": {
      "application/vnd.jupyter.widget-view+json": {
       "model_id": "ed7892bd96b845128071a10cf8e12e27",
       "version_major": 2,
       "version_minor": 0
      },
      "text/plain": [
       "Calculating Metrics:   0%|          | 0/2 [00:00<?, ?it/s]"
      ]
     },
     "metadata": {},
     "output_type": "display_data"
    },
    {
     "data": {
      "text/plain": [
       "{\n",
       "  \"success\": true,\n",
       "  \"result\": {},\n",
       "  \"meta\": {},\n",
       "  \"exception_info\": {\n",
       "    \"raised_exception\": false,\n",
       "    \"exception_traceback\": null,\n",
       "    \"exception_message\": null\n",
       "  }\n",
       "}"
      ]
     },
     "execution_count": 54,
     "metadata": {},
     "output_type": "execute_result"
    }
   ],
   "source": [
    "validator.expect_column_to_exist(column=\"job\")"
   ]
  },
  {
   "cell_type": "code",
   "execution_count": 55,
   "metadata": {},
   "outputs": [
    {
     "data": {
      "application/vnd.jupyter.widget-view+json": {
       "model_id": "cc18177115db4281bcc3b2d382c4770a",
       "version_major": 2,
       "version_minor": 0
      },
      "text/plain": [
       "Calculating Metrics:   0%|          | 0/8 [00:00<?, ?it/s]"
      ]
     },
     "metadata": {},
     "output_type": "display_data"
    },
    {
     "data": {
      "text/plain": [
       "{\n",
       "  \"success\": true,\n",
       "  \"result\": {\n",
       "    \"element_count\": 45196,\n",
       "    \"unexpected_count\": 0,\n",
       "    \"unexpected_percent\": 0.0,\n",
       "    \"partial_unexpected_list\": [],\n",
       "    \"missing_count\": 0,\n",
       "    \"missing_percent\": 0.0,\n",
       "    \"unexpected_percent_total\": 0.0,\n",
       "    \"unexpected_percent_nonmissing\": 0.0\n",
       "  },\n",
       "  \"meta\": {},\n",
       "  \"exception_info\": {\n",
       "    \"raised_exception\": false,\n",
       "    \"exception_traceback\": null,\n",
       "    \"exception_message\": null\n",
       "  }\n",
       "}"
      ]
     },
     "execution_count": 55,
     "metadata": {},
     "output_type": "execute_result"
    }
   ],
   "source": [
    "validator.expect_column_values_to_be_between(\n",
    "    column=\"age\", min_value=17, max_value=98\n",
    ")"
   ]
  },
  {
   "cell_type": "code",
   "execution_count": 56,
   "metadata": {},
   "outputs": [
    {
     "data": {
      "application/vnd.jupyter.widget-view+json": {
       "model_id": "2a73d74dbee74259861656da723cc26e",
       "version_major": 2,
       "version_minor": 0
      },
      "text/plain": [
       "Calculating Metrics:   0%|          | 0/8 [00:00<?, ?it/s]"
      ]
     },
     "metadata": {},
     "output_type": "display_data"
    },
    {
     "data": {
      "text/plain": [
       "{\n",
       "  \"success\": true,\n",
       "  \"result\": {\n",
       "    \"element_count\": 45196,\n",
       "    \"unexpected_count\": 0,\n",
       "    \"unexpected_percent\": 0.0,\n",
       "    \"partial_unexpected_list\": [],\n",
       "    \"missing_count\": 0,\n",
       "    \"missing_percent\": 0.0,\n",
       "    \"unexpected_percent_total\": 0.0,\n",
       "    \"unexpected_percent_nonmissing\": 0.0\n",
       "  },\n",
       "  \"meta\": {},\n",
       "  \"exception_info\": {\n",
       "    \"raised_exception\": false,\n",
       "    \"exception_traceback\": null,\n",
       "    \"exception_message\": null\n",
       "  }\n",
       "}"
      ]
     },
     "execution_count": 56,
     "metadata": {},
     "output_type": "execute_result"
    }
   ],
   "source": [
    "validator.expect_column_values_to_be_between(\n",
    "    column=\"pdays\", min_value=-1, max_value=900\n",
    ")"
   ]
  },
  {
   "cell_type": "code",
   "execution_count": 57,
   "metadata": {},
   "outputs": [
    {
     "data": {
      "application/vnd.jupyter.widget-view+json": {
       "model_id": "04c8561c839a47628e888544ae415586",
       "version_major": 2,
       "version_minor": 0
      },
      "text/plain": [
       "Calculating Metrics:   0%|          | 0/8 [00:00<?, ?it/s]"
      ]
     },
     "metadata": {},
     "output_type": "display_data"
    },
    {
     "data": {
      "text/plain": [
       "{\n",
       "  \"success\": true,\n",
       "  \"result\": {\n",
       "    \"element_count\": 45196,\n",
       "    \"unexpected_count\": 0,\n",
       "    \"unexpected_percent\": 0.0,\n",
       "    \"partial_unexpected_list\": [],\n",
       "    \"missing_count\": 0,\n",
       "    \"missing_percent\": 0.0,\n",
       "    \"unexpected_percent_total\": 0.0,\n",
       "    \"unexpected_percent_nonmissing\": 0.0\n",
       "  },\n",
       "  \"meta\": {},\n",
       "  \"exception_info\": {\n",
       "    \"raised_exception\": false,\n",
       "    \"exception_traceback\": null,\n",
       "    \"exception_message\": null\n",
       "  }\n",
       "}"
      ]
     },
     "execution_count": 57,
     "metadata": {},
     "output_type": "execute_result"
    }
   ],
   "source": [
    "validator.expect_column_values_to_be_unique(column=\"id\")"
   ]
  },
  {
   "cell_type": "code",
   "execution_count": 58,
   "metadata": {},
   "outputs": [],
   "source": [
    "validator.save_expectation_suite(discard_failed_expectations=False)"
   ]
  },
  {
   "cell_type": "code",
   "execution_count": 59,
   "metadata": {},
   "outputs": [],
   "source": [
    "my_checkpoint_name = \"hacktiv8_M3\"\n",
    "\n",
    "checkpoint = Checkpoint(\n",
    "    name=my_checkpoint_name,\n",
    "    run_name_template=\"%Y%m%d-%H%M%S-hacktiv8_M3_checkpoint\",\n",
    "    data_context=context,\n",
    "    batch_request=my_batch_request,\n",
    "    expectation_suite_name=expectation_suite_name,\n",
    "    action_list=[\n",
    "        {\n",
    "            \"name\": \"store_validation_result\",\n",
    "            \"action\": {\"class_name\": \"StoreValidationResultAction\"},\n",
    "        },\n",
    "        {\"name\": \"update_data_docs\", \"action\": {\"class_name\": \"UpdateDataDocsAction\"}},\n",
    "    ],\n",
    ")"
   ]
  },
  {
   "cell_type": "code",
   "execution_count": 60,
   "metadata": {},
   "outputs": [
    {
     "data": {
      "text/plain": [
       "{\n",
       "  \"action_list\": [\n",
       "    {\n",
       "      \"name\": \"store_validation_result\",\n",
       "      \"action\": {\n",
       "        \"class_name\": \"StoreValidationResultAction\"\n",
       "      }\n",
       "    },\n",
       "    {\n",
       "      \"name\": \"update_data_docs\",\n",
       "      \"action\": {\n",
       "        \"class_name\": \"UpdateDataDocsAction\"\n",
       "      }\n",
       "    }\n",
       "  ],\n",
       "  \"batch_request\": {\n",
       "    \"datasource_name\": \"m3_datasource\",\n",
       "    \"data_asset_name\": \"term_deposit\",\n",
       "    \"options\": {}\n",
       "  },\n",
       "  \"class_name\": \"Checkpoint\",\n",
       "  \"config_version\": 1.0,\n",
       "  \"evaluation_parameters\": {},\n",
       "  \"expectation_suite_name\": \"hacktiv8_M3\",\n",
       "  \"module_name\": \"great_expectations.checkpoint\",\n",
       "  \"name\": \"hacktiv8_M3\",\n",
       "  \"profilers\": [],\n",
       "  \"run_name_template\": \"%Y%m%d-%H%M%S-hacktiv8_M3_checkpoint\",\n",
       "  \"runtime_configuration\": {},\n",
       "  \"validations\": []\n",
       "}"
      ]
     },
     "execution_count": 60,
     "metadata": {},
     "output_type": "execute_result"
    }
   ],
   "source": [
    "context.add_or_update_checkpoint(checkpoint=checkpoint)"
   ]
  },
  {
   "cell_type": "code",
   "execution_count": 61,
   "metadata": {},
   "outputs": [
    {
     "data": {
      "application/vnd.jupyter.widget-view+json": {
       "model_id": "a742feda69b14ac697780edc2804b4a8",
       "version_major": 2,
       "version_minor": 0
      },
      "text/plain": [
       "Calculating Metrics:   0%|          | 0/43 [00:00<?, ?it/s]"
      ]
     },
     "metadata": {},
     "output_type": "display_data"
    }
   ],
   "source": [
    "checkpoint_result = checkpoint.run()"
   ]
  },
  {
   "cell_type": "code",
   "execution_count": 62,
   "metadata": {},
   "outputs": [
    {
     "data": {
      "text/plain": [
       "{'local_site': 'file://c:\\\\Users\\\\user\\\\Documents\\\\git_practice\\\\Phase 2\\\\Milestone\\\\gx\\\\uncommitted/data_docs/local_site/index.html'}"
      ]
     },
     "execution_count": 62,
     "metadata": {},
     "output_type": "execute_result"
    }
   ],
   "source": [
    "context.build_data_docs()"
   ]
  },
  {
   "cell_type": "code",
   "execution_count": 63,
   "metadata": {},
   "outputs": [],
   "source": [
    "context.open_data_docs()"
   ]
  }
 ],
 "metadata": {
  "kernelspec": {
   "display_name": "gx",
   "language": "python",
   "name": "python3"
  },
  "language_info": {
   "codemirror_mode": {
    "name": "ipython",
    "version": 3
   },
   "file_extension": ".py",
   "mimetype": "text/x-python",
   "name": "python",
   "nbconvert_exporter": "python",
   "pygments_lexer": "ipython3",
   "version": "3.9.18"
  },
  "orig_nbformat": 4
 },
 "nbformat": 4,
 "nbformat_minor": 2
}
